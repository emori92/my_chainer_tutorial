{
 "cells": [
  {
   "cell_type": "markdown",
   "metadata": {},
   "source": [
    "# 9. scikit-learn 入門\n",
    "\n",
    "一般的に、機械学習は以下の手順で行う\n",
    "\n",
    "1. データセットの準備\n",
    "2. モデルを決める\n",
    "3. 目的関数を決める\n",
    "4. 最適化手法を選択する\n",
    "5. モデルを訓練する"
   ]
  },
  {
   "cell_type": "markdown",
   "metadata": {},
   "source": [
    "### 1.1 データを準備する"
   ]
  },
  {
   "cell_type": "code",
   "execution_count": 31,
   "metadata": {},
   "outputs": [],
   "source": [
    "# dataset\n",
    "from sklearn.datasets import load_boston\n",
    "from sklearn.model_selection import train_test_split\n",
    "from sklearn.linear_model import LinearRegression\n",
    "from sklearn.preprocessing import StandardScaler, PowerTransformer\n",
    "from sklearn.pipeline import Pipeline\n",
    "\n",
    "dataset = load_boston()"
   ]
  },
  {
   "cell_type": "markdown",
   "metadata": {},
   "source": [
    "### 1.2 データを「入力値」と「目標値」に分割する"
   ]
  },
  {
   "cell_type": "code",
   "execution_count": 2,
   "metadata": {},
   "outputs": [],
   "source": [
    "# divide data, target\n",
    "x = dataset.data\n",
    "t = dataset.target"
   ]
  },
  {
   "cell_type": "markdown",
   "metadata": {},
   "source": [
    "### 1.3 入力値と目標値の次元数を確認"
   ]
  },
  {
   "cell_type": "code",
   "execution_count": 3,
   "metadata": {},
   "outputs": [
    {
     "output_type": "execute_result",
     "data": {
      "text/plain": "(506, 13)"
     },
     "metadata": {},
     "execution_count": 3
    }
   ],
   "source": [
    "# confirm data\n",
    "x.shape"
   ]
  },
  {
   "cell_type": "code",
   "execution_count": 4,
   "metadata": {},
   "outputs": [
    {
     "output_type": "execute_result",
     "data": {
      "text/plain": "(506,)"
     },
     "metadata": {},
     "execution_count": 4
    }
   ],
   "source": [
    "t.shape"
   ]
  },
  {
   "cell_type": "markdown",
   "metadata": {},
   "source": [
    "### 1.4 「訓練データ」と「テストデータ」に分割する"
   ]
  },
  {
   "cell_type": "code",
   "execution_count": 5,
   "metadata": {},
   "outputs": [],
   "source": [
    "# split data train, test\n",
    "x_train, x_test, t_train, t_test = \\\n",
    "    train_test_split(x, t, test_size=.3, random_state=0)"
   ]
  },
  {
   "cell_type": "markdown",
   "metadata": {},
   "source": [
    "### 2.1 「モデル」を決める"
   ]
  },
  {
   "cell_type": "code",
   "execution_count": 6,
   "metadata": {},
   "outputs": [],
   "source": [
    "# create liner model\n",
    "clc = LinearRegression()"
   ]
  },
  {
   "cell_type": "markdown",
   "metadata": {},
   "source": [
    "- 上記コードで「2.モデルの決定」「3.目的関数の決定」「4.最適化手法の選択」を全て行っている\n",
    "- `LinearRegression`は線形回帰を行うモデルです。"
   ]
  },
  {
   "cell_type": "markdown",
   "metadata": {},
   "source": [
    "### 5.1 モデルの訓練"
   ]
  },
  {
   "cell_type": "code",
   "execution_count": 7,
   "metadata": {},
   "outputs": [
    {
     "output_type": "execute_result",
     "data": {
      "text/plain": "LinearRegression()"
     },
     "metadata": {},
     "execution_count": 7
    }
   ],
   "source": [
    "# train model\n",
    "clc.fit(x_train, t_train)"
   ]
  },
  {
   "cell_type": "markdown",
   "metadata": {},
   "source": [
    "### 5.2 重み(w)とバイアス(b)の確認"
   ]
  },
  {
   "cell_type": "code",
   "execution_count": 8,
   "metadata": {},
   "outputs": [
    {
     "output_type": "execute_result",
     "data": {
      "text/plain": "array([-1.21310401e-01,  4.44664254e-02,  1.13416945e-02,  2.51124642e+00,\n       -1.62312529e+01,  3.85906801e+00, -9.98516565e-03, -1.50026956e+00,\n        2.42143466e-01, -1.10716124e-02, -1.01775264e+00,  6.81446545e-03,\n       -4.86738066e-01])"
     },
     "metadata": {},
     "execution_count": 8
    }
   ],
   "source": [
    "# check weight\n",
    "clc.coef_"
   ]
  },
  {
   "cell_type": "code",
   "execution_count": 9,
   "metadata": {},
   "outputs": [
    {
     "output_type": "execute_result",
     "data": {
      "text/plain": "37.93710774183309"
     },
     "metadata": {},
     "execution_count": 9
    }
   ],
   "source": [
    "# check bias\n",
    "clc.intercept_"
   ]
  },
  {
   "cell_type": "markdown",
   "metadata": {},
   "source": [
    "### 5.3 決定係数の確認"
   ]
  },
  {
   "cell_type": "code",
   "execution_count": 10,
   "metadata": {},
   "outputs": [
    {
     "output_type": "execute_result",
     "data": {
      "text/plain": "0.7645451026942549"
     },
     "metadata": {},
     "execution_count": 10
    }
   ],
   "source": [
    "# check R2 score\n",
    "clc.score(x_train, t_train)"
   ]
  },
  {
   "cell_type": "markdown",
   "metadata": {},
   "source": [
    "- 決定係数は1に近いほどモデルがデータに当てはまっていることを示す"
   ]
  },
  {
   "cell_type": "markdown",
   "metadata": {},
   "source": [
    "### 6.1 新しい入力値から予測する"
   ]
  },
  {
   "cell_type": "code",
   "execution_count": 11,
   "metadata": {},
   "outputs": [
    {
     "output_type": "execute_result",
     "data": {
      "text/plain": "array([24.9357079])"
     },
     "metadata": {},
     "execution_count": 11
    }
   ],
   "source": [
    "# 1行目のテスト入力値から予測\n",
    "clc.predict(x_test[:1])"
   ]
  },
  {
   "cell_type": "code",
   "execution_count": 12,
   "metadata": {},
   "outputs": [
    {
     "output_type": "execute_result",
     "data": {
      "text/plain": "22.6"
     },
     "metadata": {},
     "execution_count": 12
    }
   ],
   "source": [
    "# 1行目のテスト目標値\n",
    "t_test[0]"
   ]
  },
  {
   "cell_type": "markdown",
   "metadata": {},
   "source": [
    "### 6.2 モデルの評価"
   ]
  },
  {
   "cell_type": "code",
   "execution_count": 13,
   "metadata": {},
   "outputs": [
    {
     "output_type": "execute_result",
     "data": {
      "text/plain": "0.6733825506400171"
     },
     "metadata": {},
     "execution_count": 13
    }
   ],
   "source": [
    "# check R2 score of test data\n",
    "clc.score(x_test, t_test)"
   ]
  },
  {
   "cell_type": "markdown",
   "metadata": {},
   "source": [
    "### 7.1 データの前処理\n",
    "\n",
    "- 前処理は、欠損値の補完、外れ値の除去、特徴量選択、正規化などの手法がある\n",
    "- ここでは標準化を行う"
   ]
  },
  {
   "cell_type": "code",
   "execution_count": 14,
   "metadata": {},
   "outputs": [
    {
     "output_type": "execute_result",
     "data": {
      "text/plain": "StandardScaler()"
     },
     "metadata": {},
     "execution_count": 14
    }
   ],
   "source": [
    "# do standard\n",
    "scaler = StandardScaler()\n",
    "\n",
    "scaler.fit(x_train)"
   ]
  },
  {
   "cell_type": "markdown",
   "metadata": {},
   "source": [
    "### 7.2 平均と分散の確認"
   ]
  },
  {
   "cell_type": "code",
   "execution_count": 15,
   "metadata": {},
   "outputs": [
    {
     "output_type": "execute_result",
     "data": {
      "text/plain": "array([3.35828432e+00, 1.18093220e+01, 1.10787571e+01, 6.49717514e-02,\n       5.56098305e-01, 6.30842655e+00, 6.89940678e+01, 3.76245876e+00,\n       9.35310734e+00, 4.01782486e+02, 1.84734463e+01, 3.60601186e+02,\n       1.24406497e+01])"
     },
     "metadata": {},
     "execution_count": 15
    }
   ],
   "source": [
    "# check mean and variance\n",
    "scaler.mean_"
   ]
  },
  {
   "cell_type": "code",
   "execution_count": 16,
   "metadata": {},
   "outputs": [
    {
     "output_type": "execute_result",
     "data": {
      "text/plain": "array([6.95792305e+01, 5.57886665e+02, 4.87753572e+01, 6.07504229e-02,\n       1.33257561e-02, 4.91423928e-01, 7.83932705e+02, 4.26314655e+00,\n       7.49911344e+01, 2.90195600e+04, 4.93579208e+00, 7.31040807e+03,\n       4.99634123e+01])"
     },
     "metadata": {},
     "execution_count": 16
    }
   ],
   "source": [
    "scaler.var_"
   ]
  },
  {
   "cell_type": "markdown",
   "metadata": {},
   "source": [
    "### 7.3 データ全てを標準化"
   ]
  },
  {
   "cell_type": "code",
   "execution_count": 17,
   "metadata": {},
   "outputs": [],
   "source": [
    "# do scaler\n",
    "x_train_scaled = scaler.transform(x_train)\n",
    "x_test_scaled = scaler.transform(x_test)"
   ]
  },
  {
   "cell_type": "markdown",
   "metadata": {},
   "source": [
    "### 7.4 標準化したデータでモデルの訓練"
   ]
  },
  {
   "cell_type": "code",
   "execution_count": 18,
   "metadata": {},
   "outputs": [
    {
     "output_type": "execute_result",
     "data": {
      "text/plain": "LinearRegression()"
     },
     "metadata": {},
     "execution_count": 18
    }
   ],
   "source": [
    "# train model\n",
    "clc.fit(x_train_scaled, t_train)"
   ]
  },
  {
   "cell_type": "code",
   "execution_count": 19,
   "metadata": {},
   "outputs": [
    {
     "output_type": "execute_result",
     "data": {
      "text/plain": "0.7645451026942549"
     },
     "metadata": {},
     "execution_count": 19
    }
   ],
   "source": [
    "# check score of train data\n",
    "clc.score(x_train_scaled, t_train)"
   ]
  },
  {
   "cell_type": "code",
   "execution_count": 20,
   "metadata": {},
   "outputs": [
    {
     "output_type": "execute_result",
     "data": {
      "text/plain": "0.6733825506400195"
     },
     "metadata": {},
     "execution_count": 20
    }
   ],
   "source": [
    "# test data\n",
    "clc.score(x_test_scaled, t_test)"
   ]
  },
  {
   "cell_type": "markdown",
   "metadata": {},
   "source": [
    "### 8.1 べき変換\n",
    "\n",
    "- 標準化では特に改善しなかったので、[べき変換](https://scikit-learn.org/stable/modules/generated/sklearn.preprocessing.PowerTransformer.html?highlight=powertransformer#sklearn.preprocessing.PowerTransformer)を行う"
   ]
  },
  {
   "cell_type": "code",
   "execution_count": 27,
   "metadata": {},
   "outputs": [
    {
     "output_type": "execute_result",
     "data": {
      "text/plain": "LinearRegression()"
     },
     "metadata": {},
     "execution_count": 27
    }
   ],
   "source": [
    "# learn poser transform from train data\n",
    "scaler = PowerTransformer()\n",
    "scaler.fit(x_train)\n",
    "\n",
    "# do power transform train and test data\n",
    "x_train_scaled = scaler.transform(x_train)\n",
    "x_test_scaled = scaler.transform(x_test)\n",
    "\n",
    "# fit model\n",
    "clc.fit(x_train_scaled, t_train)"
   ]
  },
  {
   "cell_type": "markdown",
   "metadata": {},
   "source": [
    "### 8.2 決定係数の導出"
   ]
  },
  {
   "cell_type": "code",
   "execution_count": 28,
   "metadata": {},
   "outputs": [
    {
     "output_type": "execute_result",
     "data": {
      "text/plain": "0.7859862562650238"
     },
     "metadata": {},
     "execution_count": 28
    }
   ],
   "source": [
    "# R2 score of train data\n",
    "clc.score(x_train_scaled, t_train)"
   ]
  },
  {
   "cell_type": "code",
   "execution_count": 29,
   "metadata": {},
   "outputs": [
    {
     "output_type": "execute_result",
     "data": {
      "text/plain": "0.7002856552456189"
     },
     "metadata": {},
     "execution_count": 29
    }
   ],
   "source": [
    "# test data\n",
    "clc.score(x_test_scaled, t_test)"
   ]
  },
  {
   "cell_type": "markdown",
   "metadata": {},
   "source": [
    "- テストデータの決定係数が改善された"
   ]
  },
  {
   "cell_type": "markdown",
   "metadata": {},
   "source": [
    "### 9.1 パイプライン\n",
    "\n",
    "- scikit-learnは`fit()`メソッド`でインターフェースが統一されている\n",
    "- パイプラインによって、上記の`fit()`メソッドなど一連の処理を結合できる"
   ]
  },
  {
   "cell_type": "code",
   "execution_count": 32,
   "metadata": {},
   "outputs": [],
   "source": [
    "# create pipeline\n",
    "pipeline = Pipeline([\n",
    "    ('scaler', PowerTransformer()),\n",
    "    ('clc', LinearRegression()),\n",
    "])"
   ]
  },
  {
   "cell_type": "markdown",
   "metadata": {},
   "source": [
    "### 9.2 べき変換 => モデルの学習"
   ]
  },
  {
   "cell_type": "code",
   "execution_count": 34,
   "metadata": {},
   "outputs": [
    {
     "output_type": "execute_result",
     "data": {
      "text/plain": "Pipeline(steps=[('scaler', PowerTransformer()), ('clc', LinearRegression())])"
     },
     "metadata": {},
     "execution_count": 34
    }
   ],
   "source": [
    "# do powertransform, then regression\n",
    "pipeline.fit(x_train, t_train)"
   ]
  },
  {
   "cell_type": "markdown",
   "metadata": {},
   "source": [
    "### 9.3 訓練データとテストデータのスコア"
   ]
  },
  {
   "cell_type": "code",
   "execution_count": 35,
   "metadata": {},
   "outputs": [
    {
     "output_type": "execute_result",
     "data": {
      "text/plain": "0.7859862562650238"
     },
     "metadata": {},
     "execution_count": 35
    }
   ],
   "source": [
    "# train\n",
    "pipeline.score(x_train, t_train)"
   ]
  },
  {
   "cell_type": "code",
   "execution_count": 36,
   "metadata": {},
   "outputs": [
    {
     "output_type": "execute_result",
     "data": {
      "text/plain": "0.7002856552456189"
     },
     "metadata": {},
     "execution_count": 36
    }
   ],
   "source": [
    "# test\n",
    "pipeline.score(x_test, t_test)"
   ]
  }
 ],
 "metadata": {
  "language_info": {
   "codemirror_mode": {
    "name": "ipython",
    "version": 3
   },
   "file_extension": ".py",
   "mimetype": "text/x-python",
   "name": "python",
   "nbconvert_exporter": "python",
   "pygments_lexer": "ipython3",
   "version": 3
  },
  "orig_nbformat": 2,
  "kernelspec": {
   "name": "python_defaultSpec_1599218122350",
   "display_name": "Python 3.8.2 64-bit ('ml_2020_09': venv)"
  }
 },
 "nbformat": 4,
 "nbformat_minor": 2
}