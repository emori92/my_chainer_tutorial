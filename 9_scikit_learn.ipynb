{
 "cells": [
  {
   "cell_type": "markdown",
   "metadata": {},
   "source": [
    "# 9. scikit-learn 入門\n",
    "\n",
    "一般的に、機械学習は以下の手順で行う\n",
    "\n",
    "1. データセットの準備\n",
    "2. モデルを決める\n",
    "3. 目的関数を決める\n",
    "4. 最適化手法を選択する\n",
    "5. モデルを訓練する"
   ]
  },
  {
   "cell_type": "markdown",
   "metadata": {},
   "source": [
    "### 1.1 データを準備する"
   ]
  },
  {
   "cell_type": "code",
   "execution_count": 14,
   "metadata": {},
   "outputs": [],
   "source": [
    "# dataset\n",
    "from sklearn.datasets import load_boston\n",
    "from sklearn.model_selection import train_test_split\n",
    "from sklearn.linear_model import LinearRegression\n",
    "\n",
    "dataset = load_boston()"
   ]
  },
  {
   "cell_type": "markdown",
   "metadata": {},
   "source": [
    "### 1.2 データを「入力値」と「目標値」に分割する"
   ]
  },
  {
   "cell_type": "code",
   "execution_count": 7,
   "metadata": {},
   "outputs": [],
   "source": [
    "# divide data, target\n",
    "x = dataset.data\n",
    "t = dataset.target"
   ]
  },
  {
   "cell_type": "markdown",
   "metadata": {},
   "source": [
    "### 1.3 入力値と目標値の次元数を確認"
   ]
  },
  {
   "cell_type": "code",
   "execution_count": 8,
   "metadata": {},
   "outputs": [
    {
     "output_type": "execute_result",
     "data": {
      "text/plain": "(506, 13)"
     },
     "metadata": {},
     "execution_count": 8
    }
   ],
   "source": [
    "# confirm data\n",
    "x.shape"
   ]
  },
  {
   "cell_type": "code",
   "execution_count": 9,
   "metadata": {},
   "outputs": [
    {
     "output_type": "execute_result",
     "data": {
      "text/plain": "(506,)"
     },
     "metadata": {},
     "execution_count": 9
    }
   ],
   "source": [
    "t.shape"
   ]
  },
  {
   "cell_type": "markdown",
   "metadata": {},
   "source": [
    "### 1.4 「訓練データ」と「テストデータ」に分割する"
   ]
  },
  {
   "cell_type": "code",
   "execution_count": 10,
   "metadata": {},
   "outputs": [],
   "source": [
    "# split data train, test\n",
    "x_train, x_test, t_train, t_test = \\\n",
    "    train_test_split(x, t, test_size=.3, random_state=0)"
   ]
  },
  {
   "cell_type": "markdown",
   "metadata": {},
   "source": [
    "### 2.1 「モデル」を決める"
   ]
  },
  {
   "cell_type": "code",
   "execution_count": 15,
   "metadata": {},
   "outputs": [],
   "source": [
    "# create liner model\n",
    "clc = LinearRegression()"
   ]
  },
  {
   "cell_type": "markdown",
   "metadata": {},
   "source": [
    "- 上記コードで「2.モデルの決定」「3.目的関数の決定」「4.最適化手法の選択」を全て行っている\n",
    "- `LinearRegression`は線形回帰を行うモデルです。"
   ]
  },
  {
   "cell_type": "markdown",
   "metadata": {},
   "source": [
    "### 5.1 モデルの訓練"
   ]
  },
  {
   "cell_type": "code",
   "execution_count": 16,
   "metadata": {},
   "outputs": [
    {
     "output_type": "execute_result",
     "data": {
      "text/plain": "LinearRegression()"
     },
     "metadata": {},
     "execution_count": 16
    }
   ],
   "source": [
    "# train model\n",
    "clc.fit(x_train, t_train)"
   ]
  },
  {
   "cell_type": "markdown",
   "metadata": {},
   "source": [
    "### 5.2 重み(w)とバイアス(b)の確認"
   ]
  },
  {
   "cell_type": "code",
   "execution_count": 17,
   "metadata": {},
   "outputs": [
    {
     "output_type": "execute_result",
     "data": {
      "text/plain": "array([-1.21310401e-01,  4.44664254e-02,  1.13416945e-02,  2.51124642e+00,\n       -1.62312529e+01,  3.85906801e+00, -9.98516565e-03, -1.50026956e+00,\n        2.42143466e-01, -1.10716124e-02, -1.01775264e+00,  6.81446545e-03,\n       -4.86738066e-01])"
     },
     "metadata": {},
     "execution_count": 17
    }
   ],
   "source": [
    "# check weight\n",
    "clc.coef_"
   ]
  },
  {
   "cell_type": "code",
   "execution_count": 18,
   "metadata": {},
   "outputs": [
    {
     "output_type": "execute_result",
     "data": {
      "text/plain": "37.93710774183309"
     },
     "metadata": {},
     "execution_count": 18
    }
   ],
   "source": [
    "# check bias\n",
    "clc.intercept_"
   ]
  },
  {
   "cell_type": "markdown",
   "metadata": {},
   "source": [
    "### 5.3 決定係数の確認"
   ]
  },
  {
   "cell_type": "code",
   "execution_count": 19,
   "metadata": {},
   "outputs": [
    {
     "output_type": "execute_result",
     "data": {
      "text/plain": "0.7645451026942549"
     },
     "metadata": {},
     "execution_count": 19
    }
   ],
   "source": [
    "# check R2 score\n",
    "clc.score(x_train, t_train)"
   ]
  },
  {
   "cell_type": "markdown",
   "metadata": {},
   "source": [
    "- 決定係数は1に近いほどモデルがデータに当てはまっていることを示す"
   ]
  },
  {
   "cell_type": "markdown",
   "metadata": {},
   "source": [
    "### 6.1 新しい入力値から予測する"
   ]
  },
  {
   "cell_type": "code",
   "execution_count": null,
   "metadata": {},
   "outputs": [],
   "source": []
  }
 ],
 "metadata": {
  "language_info": {
   "codemirror_mode": {
    "name": "ipython",
    "version": 3
   },
   "file_extension": ".py",
   "mimetype": "text/x-python",
   "name": "python",
   "nbconvert_exporter": "python",
   "pygments_lexer": "ipython3",
   "version": 3
  },
  "orig_nbformat": 2,
  "kernelspec": {
   "name": "python_defaultSpec_1599046067555",
   "display_name": "Python 3.8.2 64-bit ('ml_2020_09': venv)"
  }
 },
 "nbformat": 4,
 "nbformat_minor": 2
}